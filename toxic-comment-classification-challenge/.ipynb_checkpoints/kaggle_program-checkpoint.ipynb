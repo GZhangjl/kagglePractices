{
 "cells": [
  {
   "cell_type": "code",
   "execution_count": 1,
   "metadata": {},
   "outputs": [],
   "source": [
    "import pandas as pd\n",
    "import numpy as np\n",
    "import collections\n",
    "from mxnet import nd, gluon, init, autograd\n",
    "from mxnet.gluon import nn, data as gdata, loss as gloss\n",
    "from mxnet.contrib import text\n",
    "import os"
   ]
  },
  {
   "cell_type": "code",
   "execution_count": 2,
   "metadata": {},
   "outputs": [],
   "source": [
    "dir_path = './jigsaw-toxic-comment-classification-challenge/'\n",
    "_, test_file, test_label_file, train_file = [os.path.join(dir_path, file_name) for file_name in sorted(os.listdir(dir_path))]"
   ]
  },
  {
   "cell_type": "code",
   "execution_count": 3,
   "metadata": {},
   "outputs": [],
   "source": [
    "train_data_labels = pd.read_csv(train_file)\n",
    "test_data = pd.read_csv(test_file)\n",
    "test_label = pd.read_csv(test_label_file)"
   ]
  },
  {
   "cell_type": "code",
   "execution_count": 4,
   "metadata": {},
   "outputs": [],
   "source": [
    "labels_name = ['toxic', 'severe_toxic', 'obscene', 'threat', 'insult', 'identity_hate', 'N']\n",
    "labels_index = list(range(1, 8))"
   ]
  },
  {
   "cell_type": "code",
   "execution_count": 5,
   "metadata": {},
   "outputs": [],
   "source": [
    "# train_data_labels = pd.concat((train_data_labels, pd.DataFrame(data=np.zeros((len(train_data_labels), 1)), columns=['N'])), axis=1)\n",
    "# train_data_labels['N'][train_data_labels[labels_name[:-1]].apply(sum, axis=1) == 0] = 1"
   ]
  },
  {
   "cell_type": "code",
   "execution_count": 6,
   "metadata": {},
   "outputs": [],
   "source": [
    "# new_train = pd.concat((train_label, pd.DataFrame(np.array(['N' for i in range(len(train_data_label))]), columns=['label'])), axis=1)"
   ]
  },
  {
   "cell_type": "code",
   "execution_count": 7,
   "metadata": {},
   "outputs": [],
   "source": [
    "# a = train_label.drop('id', axis=1)"
   ]
  },
  {
   "cell_type": "code",
   "execution_count": 8,
   "metadata": {},
   "outputs": [],
   "source": [
    "# new_train.iloc[0]['toxic']"
   ]
  },
  {
   "cell_type": "code",
   "execution_count": 9,
   "metadata": {},
   "outputs": [],
   "source": [
    "train_data = train_data_labels[['id', 'comment_text']]\n",
    "train_test_data = pd.concat((train_data, test_data), axis=0) # 将训练数据与预测数据进行拼接一起形成单词表"
   ]
  },
  {
   "cell_type": "code",
   "execution_count": 10,
   "metadata": {},
   "outputs": [],
   "source": [
    "# 分词函数\n",
    "\n",
    "def get_tok(data):\n",
    "    def _tok(one):\n",
    "        return [w.lower() for w in one.strip().replace('\\n', ' ').split(' ')]\n",
    "    return [_tok(s) for s in data]"
   ]
  },
  {
   "cell_type": "code",
   "execution_count": 11,
   "metadata": {},
   "outputs": [],
   "source": [
    "# 形成单词表函数\n",
    "\n",
    "def get_voc(data):\n",
    "    worda_count = collections.Counter([w for s in get_tok(data) for w in s])\n",
    "    return text.vocab.Vocabulary(counter=worda_count)"
   ]
  },
  {
   "cell_type": "code",
   "execution_count": 12,
   "metadata": {},
   "outputs": [],
   "source": [
    "# 形成可以用来创建词向量的单词索引\n",
    "\n",
    "def get_features(data, voc):\n",
    "    max_len = 100\n",
    "    \n",
    "    def padding(v):\n",
    "        return v[:max_len] if len(v) > max_len else v + [0] * (max_len - len(v))\n",
    "    return [padding(voc.to_indices(s)) for s in get_tok(data)]"
   ]
  },
  {
   "cell_type": "code",
   "execution_count": 13,
   "metadata": {},
   "outputs": [],
   "source": [
    "voc = get_voc(train_test_data['comment_text'])"
   ]
  },
  {
   "cell_type": "code",
   "execution_count": 14,
   "metadata": {},
   "outputs": [],
   "source": [
    "train_features = get_features(train_data['comment_text'], voc)\n",
    "test_features = get_features(test_data['comment_text'], voc)"
   ]
  },
  {
   "cell_type": "code",
   "execution_count": 15,
   "metadata": {},
   "outputs": [],
   "source": [
    "# 形成训练数据集的labels变量\n",
    "\n",
    "vars = locals()\n",
    "for i in labels_index[:-1]:\n",
    "    vars['train_label_{0}'.format(i)] = train_data_labels[labels_name[i-1]] # 类别 N 不用管"
   ]
  },
  {
   "cell_type": "code",
   "execution_count": 16,
   "metadata": {},
   "outputs": [],
   "source": [
    "# 形成训练数据集\n",
    "batch_size = 200\n",
    "\n",
    "for i in labels_index[:-1]:\n",
    "    vars['train_set_{0}'.format(i)] = gdata.ArrayDataset(train_features, vars['train_label_{0}'.format(i)])\n",
    "    vars['train_iter_{0}'.format(i)] = gdata.DataLoader(vars['train_set_{0}'.format(i)], batch_size)"
   ]
  },
  {
   "cell_type": "code",
   "execution_count": 17,
   "metadata": {},
   "outputs": [],
   "source": [
    "# 开始设计神经网络模型。本问题中，虽然看似六分类问题，实质上是正对每一个分类的二分类问题。现就针对每一个分类按照二分类问题进行网络构建。\n",
    "# 考虑参考textCNN思路构建网络\n",
    "\n",
    "class TextCNN(nn.Block):\n",
    "    def __init__(self, voc, w2v_size, k_sizes, n_channels, **kwargs):\n",
    "        super(TextCNN, self).__init__(**kwargs)\n",
    "        self.embedding = nn.Embedding(len(voc), w2v_size)\n",
    "        self.convs = nn.Sequential()\n",
    "        for k, c in zip(k_sizes, n_channels):\n",
    "            self.convs.add(nn.Conv1D(c, k, activation='relu'))\n",
    "        self.pooling = nn.GlobalMaxPool1D()\n",
    "        self.dropout_1 = nn.Dropout(0.3)\n",
    "        self.dense_h = nn.Dense(6, activation='relu')\n",
    "        self.dropout_2 = nn.Dropout(0.6)\n",
    "        self.dense = nn.Dense(2)\n",
    "        \n",
    "    def forward(self, inputs):\n",
    "        emb = self.embedding(inputs)\n",
    "        input_emb = emb.transpose((0, 2, 1))\n",
    "        conv_process = [nd.flatten(self.pooling(conv(input_emb))) for conv in self.convs]\n",
    "        dense_inputs = nd.concat(*conv_process, dim=1)\n",
    "        hid = self.dense_h(self.dropout_1(dense_inputs))\n",
    "        outputs = self.dense(self.dropout_2(hid))\n",
    "        return outputs"
   ]
  },
  {
   "cell_type": "code",
   "execution_count": 18,
   "metadata": {},
   "outputs": [
    {
     "name": "stdout",
     "output_type": "stream",
     "text": [
      "0\n",
      "1000\n",
      "2000\n",
      "3000\n",
      "4000\n",
      "5000\n",
      "6000\n",
      "7000\n",
      "train_iter_1  loss 0.14195126725762985, train_acc 0.9600710655444912\n",
      "0\n",
      "1000\n",
      "2000\n",
      "3000\n",
      "4000\n",
      "5000\n",
      "6000\n",
      "7000\n",
      "train_iter_2  loss 0.03651938629244819, train_acc 0.9911876218109807\n",
      "0\n",
      "1000\n",
      "2000\n",
      "3000\n",
      "4000\n",
      "5000\n",
      "6000\n",
      "7000\n",
      "train_iter_3  loss 0.07470879324422122, train_acc 0.981605680230117\n",
      "0\n",
      "1000\n",
      "2000\n",
      "3000\n",
      "4000\n",
      "5000\n",
      "6000\n",
      "7000\n",
      "train_iter_4  loss 0.020571766464348627, train_acc 0.9969411735215046\n",
      "0\n",
      "1000\n",
      "2000\n",
      "3000\n",
      "4000\n",
      "5000\n",
      "6000\n",
      "7000\n",
      "train_iter_5  loss 0.08035526836670194, train_acc 0.9775059377957147\n",
      "0\n",
      "1000\n",
      "2000\n",
      "3000\n",
      "4000\n",
      "5000\n",
      "6000\n",
      "7000\n",
      "train_iter_6  loss 0.03760657440224209, train_acc 0.9934317639170025\n"
     ]
    }
   ],
   "source": [
    "w2v_size, k_sizes, n_channels = 10, [3, 4, 5], [10, 10, 10]\n",
    "lr, wd, num_epochs = 0.005, 0, 10\n",
    "\n",
    "for i in labels_index[:-1]:\n",
    "    vars['net_{0}'.format(i)] = TextCNN(voc, w2v_size=w2v_size, k_sizes=k_sizes, n_channels=n_channels)\n",
    "    net = vars['net_{0}'.format(i)]\n",
    "    net.initialize(init.Xavier())\n",
    "    trainer = gluon.Trainer(net.collect_params(), 'adam', {'learning_rate': lr, 'wd': wd})\n",
    "    loss = gloss.SoftmaxCrossEntropyLoss()\n",
    "\n",
    "    labels = vars['train_label_{0}'.format(i)]\n",
    "    iter = vars['train_iter_{0}'.format(i)]\n",
    "    train_l_sum, train_acc_sum, n = 0., 0., 0.\n",
    "    count = 0\n",
    "    for epoch in range(num_epochs):\n",
    "        for X, y in iter:\n",
    "            with autograd.record():\n",
    "                y_hat = net(X)\n",
    "                l = loss(y_hat, y).sum()\n",
    "            l.backward()\n",
    "            trainer.step(batch_size)\n",
    "            y = y.astype('float32')\n",
    "            train_l_sum += l.asscalar()\n",
    "            train_acc_sum += (y_hat.argmax(axis=1) == y).sum().asscalar()\n",
    "            n += y.size\n",
    "            if count % 1000 == 0:\n",
    "                print(count)\n",
    "            count += 1\n",
    "    print('train_iter_{0}  loss {1}, train_acc {2}'.format(i, train_l_sum / n, train_acc_sum / n))"
   ]
  },
  {
   "cell_type": "code",
   "execution_count": 19,
   "metadata": {},
   "outputs": [],
   "source": [
    "for i in labels_index[:-1]:\n",
    "    filename = 'model_params_{0}'.format(labels_name[i-1])\n",
    "    net = vars['net_{0}'.format(i)]\n",
    "    net.save_parameters(filename)"
   ]
  },
  {
   "cell_type": "code",
   "execution_count": null,
   "metadata": {},
   "outputs": [],
   "source": []
  }
 ],
 "metadata": {
  "kernelspec": {
   "display_name": "Python [conda env:gluon]",
   "language": "python",
   "name": "conda-env-gluon-py"
  },
  "language_info": {
   "codemirror_mode": {
    "name": "ipython",
    "version": 3
   },
   "file_extension": ".py",
   "mimetype": "text/x-python",
   "name": "python",
   "nbconvert_exporter": "python",
   "pygments_lexer": "ipython3",
   "version": "3.6.9"
  }
 },
 "nbformat": 4,
 "nbformat_minor": 2
}
