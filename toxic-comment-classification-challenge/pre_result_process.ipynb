{
 "cells": [
  {
   "cell_type": "code",
   "execution_count": 1,
   "metadata": {},
   "outputs": [],
   "source": [
    "import pandas as pd\n",
    "import numpy as np\n",
    "import collections\n",
    "from mxnet import nd, gluon, init, autograd\n",
    "from mxnet.gluon import nn, data as gdata, loss as gloss\n",
    "from mxnet.contrib import text\n",
    "import os"
   ]
  },
  {
   "cell_type": "code",
   "execution_count": 2,
   "metadata": {},
   "outputs": [],
   "source": [
    "dir_path = './jigsaw-toxic-comment-classification-challenge/'\n",
    "_, test_file, test_label_file, train_file = [os.path.join(dir_path, file_name) for file_name in sorted(os.listdir(dir_path))]"
   ]
  },
  {
   "cell_type": "code",
   "execution_count": 3,
   "metadata": {},
   "outputs": [],
   "source": [
    "train_data_labels = pd.read_csv(train_file)\n",
    "test_data = pd.read_csv(test_file)\n",
    "test_label = pd.read_csv(test_label_file)"
   ]
  },
  {
   "cell_type": "code",
   "execution_count": 4,
   "metadata": {},
   "outputs": [],
   "source": [
    "labels_name = ['toxic', 'severe_toxic', 'obscene', 'threat', 'insult', 'identity_hate']\n",
    "labels_index = list(range(1, 7))"
   ]
  },
  {
   "cell_type": "code",
   "execution_count": 5,
   "metadata": {},
   "outputs": [],
   "source": [
    "train_data = train_data_labels[['id', 'comment_text']]\n",
    "train_test_data = pd.concat((train_data, test_data), axis=0) # 将训练数据与预测数据进行拼接一起形成单词表"
   ]
  },
  {
   "cell_type": "code",
   "execution_count": 6,
   "metadata": {},
   "outputs": [],
   "source": [
    "# 分词函数\n",
    "\n",
    "def get_tok(data):\n",
    "    def _tok(one):\n",
    "        return [w.lower() for w in one.strip().replace('\\n', ' ').split(' ')]\n",
    "    return [_tok(s) for s in data]"
   ]
  },
  {
   "cell_type": "code",
   "execution_count": 7,
   "metadata": {},
   "outputs": [],
   "source": [
    "# 形成单词表函数\n",
    "\n",
    "def get_voc(data):\n",
    "    worda_count = collections.Counter([w for s in get_tok(data) for w in s])\n",
    "    return text.vocab.Vocabulary(counter=worda_count)"
   ]
  },
  {
   "cell_type": "code",
   "execution_count": 8,
   "metadata": {},
   "outputs": [],
   "source": [
    "# 形成可以用来创建词向量的单词索引\n",
    "\n",
    "def get_features(data, voc):\n",
    "    max_len = 100\n",
    "    \n",
    "    def padding(v):\n",
    "        return v[:max_len] if len(v) > max_len else v + [0] * (max_len - len(v))\n",
    "    return [padding(voc.to_indices(s)) for s in get_tok(data)]"
   ]
  },
  {
   "cell_type": "code",
   "execution_count": 9,
   "metadata": {},
   "outputs": [],
   "source": [
    "voc = get_voc(train_test_data['comment_text'])"
   ]
  },
  {
   "cell_type": "code",
   "execution_count": 10,
   "metadata": {},
   "outputs": [],
   "source": [
    "test_features = get_features(test_data['comment_text'], voc)"
   ]
  },
  {
   "cell_type": "code",
   "execution_count": 12,
   "metadata": {},
   "outputs": [],
   "source": [
    "# 开始设计神经网络模型。本问题中，虽然看似六分类问题，实质上是正对每一个分类的二分类问题。现就针对每一个分类按照二分类问题进行网络构建。\n",
    "# 考虑参考textCNN思路构建网络\n",
    "\n",
    "class TextCNN(nn.Block):\n",
    "    def __init__(self, voc, w2v_size, k_sizes, n_channels, **kwargs):\n",
    "        super(TextCNN, self).__init__(**kwargs)\n",
    "        self.embedding = nn.Embedding(len(voc), w2v_size)\n",
    "        self.convs = nn.Sequential()\n",
    "        for k, c in zip(k_sizes, n_channels):\n",
    "            self.convs.add(nn.Conv1D(c, k, activation='relu'))\n",
    "        self.pooling = nn.GlobalMaxPool1D()\n",
    "        self.dropout_1 = nn.Dropout(0.3)\n",
    "        self.dense_h = nn.Dense(6, activation='relu')\n",
    "        self.dropout_2 = nn.Dropout(0.6)\n",
    "        self.dense = nn.Dense(2)\n",
    "        \n",
    "    def forward(self, inputs):\n",
    "        emb = self.embedding(inputs)\n",
    "        input_emb = emb.transpose((0, 2, 1))\n",
    "        conv_process = [nd.flatten(self.pooling(conv(input_emb))) for conv in self.convs]\n",
    "        dense_inputs = nd.concat(*conv_process, dim=1)\n",
    "        hid = self.dense_h(self.dropout_1(dense_inputs))\n",
    "        outputs = self.dense(self.dropout_2(hid))\n",
    "        return outputs"
   ]
  },
  {
   "cell_type": "code",
   "execution_count": 62,
   "metadata": {},
   "outputs": [],
   "source": [
    "def softmax(X):\n",
    "    return X.exp() / X.exp().sum(axis=1, keepdims=True)"
   ]
  },
  {
   "cell_type": "code",
   "execution_count": 63,
   "metadata": {},
   "outputs": [],
   "source": [
    "w2v_size, k_sizes, n_channels = 10, [3, 4, 5], [10, 10, 10]\n",
    "\n",
    "in_vars = locals()\n",
    "for i in labels_index:\n",
    "    filename = './model_results/model_params_{0}'.format(labels_name[i-1])\n",
    "    net = TextCNN(voc, w2v_size, k_sizes, n_channels)\n",
    "    net.load_parameters(filename)\n",
    "    test_features_ndarrray = nd.array(test_features)\n",
    "    in_vars['test_pre_{0}'.format(labels_name[i-1])] = net(test_features_ndarrray)\n",
    "    in_vars['test_{0}_as'.format(labels_name[i-1])] = softmax(in_vars['test_pre_{0}'.format(labels_name[i-1])])\n",
    "#     in_vars['test_label_{0}'.format(labels_name[i-1])] = in_vars['test_pre_{0}'.format(labels_name[i-1])].argmax(axis=1)"
   ]
  },
  {
   "cell_type": "code",
   "execution_count": 86,
   "metadata": {},
   "outputs": [],
   "source": [
    "results_dict = {\n",
    "    'toxic': test_toxic_as[:, 1].asnumpy(), \n",
    "    'severe_toxic': test_severe_toxic_as[:, 1].asnumpy(),\n",
    "    'obscene': test_obscene_as[:, 1].asnumpy(),\n",
    "    'threat': test_threat_as[:, 1].asnumpy(),\n",
    "    'insult': test_insult_as[:, 1].asnumpy(),\n",
    "    'identity_hate': test_identity_hate_as[:, 1].asnumpy()\n",
    "}"
   ]
  },
  {
   "cell_type": "code",
   "execution_count": 87,
   "metadata": {},
   "outputs": [],
   "source": [
    "pre_results = pd.DataFrame(data=results_dict)"
   ]
  },
  {
   "cell_type": "code",
   "execution_count": 88,
   "metadata": {},
   "outputs": [],
   "source": [
    "results = pd.concat((test_data['id'], pre_results), axis=1)"
   ]
  },
  {
   "cell_type": "code",
   "execution_count": 89,
   "metadata": {},
   "outputs": [
    {
     "data": {
      "text/html": [
       "<div>\n",
       "<style scoped>\n",
       "    .dataframe tbody tr th:only-of-type {\n",
       "        vertical-align: middle;\n",
       "    }\n",
       "\n",
       "    .dataframe tbody tr th {\n",
       "        vertical-align: top;\n",
       "    }\n",
       "\n",
       "    .dataframe thead th {\n",
       "        text-align: right;\n",
       "    }\n",
       "</style>\n",
       "<table border=\"1\" class=\"dataframe\">\n",
       "  <thead>\n",
       "    <tr style=\"text-align: right;\">\n",
       "      <th></th>\n",
       "      <th>toxic</th>\n",
       "      <th>severe_toxic</th>\n",
       "      <th>obscene</th>\n",
       "      <th>threat</th>\n",
       "      <th>insult</th>\n",
       "      <th>identity_hate</th>\n",
       "    </tr>\n",
       "  </thead>\n",
       "  <tbody>\n",
       "    <tr>\n",
       "      <td>0</td>\n",
       "      <td>1.000000</td>\n",
       "      <td>4.276186e-02</td>\n",
       "      <td>9.975051e-01</td>\n",
       "      <td>2.534585e-02</td>\n",
       "      <td>9.977515e-01</td>\n",
       "      <td>1.338618e-02</td>\n",
       "    </tr>\n",
       "    <tr>\n",
       "      <td>1</td>\n",
       "      <td>0.000197</td>\n",
       "      <td>4.317310e-07</td>\n",
       "      <td>4.801004e-07</td>\n",
       "      <td>4.495851e-09</td>\n",
       "      <td>1.207244e-07</td>\n",
       "      <td>1.087413e-04</td>\n",
       "    </tr>\n",
       "    <tr>\n",
       "      <td>2</td>\n",
       "      <td>0.007691</td>\n",
       "      <td>2.167242e-09</td>\n",
       "      <td>4.309055e-04</td>\n",
       "      <td>2.002184e-15</td>\n",
       "      <td>5.544279e-06</td>\n",
       "      <td>7.535175e-05</td>\n",
       "    </tr>\n",
       "    <tr>\n",
       "      <td>3</td>\n",
       "      <td>0.000725</td>\n",
       "      <td>3.244744e-06</td>\n",
       "      <td>1.518609e-03</td>\n",
       "      <td>3.695252e-19</td>\n",
       "      <td>5.522445e-06</td>\n",
       "      <td>1.973828e-08</td>\n",
       "    </tr>\n",
       "    <tr>\n",
       "      <td>4</td>\n",
       "      <td>0.002934</td>\n",
       "      <td>2.535286e-04</td>\n",
       "      <td>7.926438e-06</td>\n",
       "      <td>9.129067e-12</td>\n",
       "      <td>4.348285e-03</td>\n",
       "      <td>7.048269e-05</td>\n",
       "    </tr>\n",
       "  </tbody>\n",
       "</table>\n",
       "</div>"
      ],
      "text/plain": [
       "      toxic  severe_toxic       obscene        threat        insult  \\\n",
       "0  1.000000  4.276186e-02  9.975051e-01  2.534585e-02  9.977515e-01   \n",
       "1  0.000197  4.317310e-07  4.801004e-07  4.495851e-09  1.207244e-07   \n",
       "2  0.007691  2.167242e-09  4.309055e-04  2.002184e-15  5.544279e-06   \n",
       "3  0.000725  3.244744e-06  1.518609e-03  3.695252e-19  5.522445e-06   \n",
       "4  0.002934  2.535286e-04  7.926438e-06  9.129067e-12  4.348285e-03   \n",
       "\n",
       "   identity_hate  \n",
       "0   1.338618e-02  \n",
       "1   1.087413e-04  \n",
       "2   7.535175e-05  \n",
       "3   1.973828e-08  \n",
       "4   7.048269e-05  "
      ]
     },
     "execution_count": 89,
     "metadata": {},
     "output_type": "execute_result"
    }
   ],
   "source": [
    "pre_results.head()"
   ]
  },
  {
   "cell_type": "code",
   "execution_count": 90,
   "metadata": {},
   "outputs": [],
   "source": [
    "results.to_csv('submission.csv', index=False)"
   ]
  },
  {
   "cell_type": "code",
   "execution_count": 54,
   "metadata": {},
   "outputs": [],
   "source": [
    "import mxnet"
   ]
  },
  {
   "cell_type": "code",
   "execution_count": 60,
   "metadata": {},
   "outputs": [
    {
     "data": {
      "text/plain": [
       "\n",
       "[[1.7059134e-11 1.0000000e+00]\n",
       " [9.9980253e-01 1.9746160e-04]\n",
       " [9.9230886e-01 7.6911170e-03]\n",
       " ...\n",
       " [9.9984646e-01 1.5349554e-04]\n",
       " [9.9998218e-01 1.7859442e-05]\n",
       " [2.4421385e-02 9.7557861e-01]]\n",
       "<NDArray 153164x2 @cpu(0)>"
      ]
     },
     "execution_count": 60,
     "metadata": {},
     "output_type": "execute_result"
    }
   ],
   "source": [
    "test_pre_toxic.exp() / test_pre_toxic.exp().sum(axis=1, keepdims=True)"
   ]
  },
  {
   "cell_type": "code",
   "execution_count": 85,
   "metadata": {},
   "outputs": [
    {
     "data": {
      "text/plain": [
       "array([1.0000000e+00, 1.9746160e-04, 7.6911170e-03, ..., 1.5349554e-04,\n",
       "       1.7859442e-05, 9.7557861e-01], dtype=float32)"
      ]
     },
     "execution_count": 85,
     "metadata": {},
     "output_type": "execute_result"
    }
   ],
   "source": [
    "test_toxic_as[:, 1].asnumpy()"
   ]
  },
  {
   "cell_type": "code",
   "execution_count": 91,
   "metadata": {},
   "outputs": [
    {
     "data": {
      "text/html": [
       "<div>\n",
       "<style scoped>\n",
       "    .dataframe tbody tr th:only-of-type {\n",
       "        vertical-align: middle;\n",
       "    }\n",
       "\n",
       "    .dataframe tbody tr th {\n",
       "        vertical-align: top;\n",
       "    }\n",
       "\n",
       "    .dataframe thead th {\n",
       "        text-align: right;\n",
       "    }\n",
       "</style>\n",
       "<table border=\"1\" class=\"dataframe\">\n",
       "  <thead>\n",
       "    <tr style=\"text-align: right;\">\n",
       "      <th></th>\n",
       "      <th>id</th>\n",
       "      <th>toxic</th>\n",
       "      <th>severe_toxic</th>\n",
       "      <th>obscene</th>\n",
       "      <th>threat</th>\n",
       "      <th>insult</th>\n",
       "      <th>identity_hate</th>\n",
       "    </tr>\n",
       "  </thead>\n",
       "  <tbody>\n",
       "    <tr>\n",
       "      <td>0</td>\n",
       "      <td>00001cee341fdb12</td>\n",
       "      <td>1.000000</td>\n",
       "      <td>4.276186e-02</td>\n",
       "      <td>9.975051e-01</td>\n",
       "      <td>2.534585e-02</td>\n",
       "      <td>9.977515e-01</td>\n",
       "      <td>1.338618e-02</td>\n",
       "    </tr>\n",
       "    <tr>\n",
       "      <td>1</td>\n",
       "      <td>0000247867823ef7</td>\n",
       "      <td>0.000197</td>\n",
       "      <td>4.317310e-07</td>\n",
       "      <td>4.801004e-07</td>\n",
       "      <td>4.495851e-09</td>\n",
       "      <td>1.207244e-07</td>\n",
       "      <td>1.087413e-04</td>\n",
       "    </tr>\n",
       "    <tr>\n",
       "      <td>2</td>\n",
       "      <td>00013b17ad220c46</td>\n",
       "      <td>0.007691</td>\n",
       "      <td>2.167242e-09</td>\n",
       "      <td>4.309055e-04</td>\n",
       "      <td>2.002184e-15</td>\n",
       "      <td>5.544279e-06</td>\n",
       "      <td>7.535175e-05</td>\n",
       "    </tr>\n",
       "    <tr>\n",
       "      <td>3</td>\n",
       "      <td>00017563c3f7919a</td>\n",
       "      <td>0.000725</td>\n",
       "      <td>3.244744e-06</td>\n",
       "      <td>1.518609e-03</td>\n",
       "      <td>3.695252e-19</td>\n",
       "      <td>5.522445e-06</td>\n",
       "      <td>1.973828e-08</td>\n",
       "    </tr>\n",
       "    <tr>\n",
       "      <td>4</td>\n",
       "      <td>00017695ad8997eb</td>\n",
       "      <td>0.002934</td>\n",
       "      <td>2.535286e-04</td>\n",
       "      <td>7.926438e-06</td>\n",
       "      <td>9.129067e-12</td>\n",
       "      <td>4.348285e-03</td>\n",
       "      <td>7.048269e-05</td>\n",
       "    </tr>\n",
       "  </tbody>\n",
       "</table>\n",
       "</div>"
      ],
      "text/plain": [
       "                 id     toxic  severe_toxic       obscene        threat  \\\n",
       "0  00001cee341fdb12  1.000000  4.276186e-02  9.975051e-01  2.534585e-02   \n",
       "1  0000247867823ef7  0.000197  4.317310e-07  4.801004e-07  4.495851e-09   \n",
       "2  00013b17ad220c46  0.007691  2.167242e-09  4.309055e-04  2.002184e-15   \n",
       "3  00017563c3f7919a  0.000725  3.244744e-06  1.518609e-03  3.695252e-19   \n",
       "4  00017695ad8997eb  0.002934  2.535286e-04  7.926438e-06  9.129067e-12   \n",
       "\n",
       "         insult  identity_hate  \n",
       "0  9.977515e-01   1.338618e-02  \n",
       "1  1.207244e-07   1.087413e-04  \n",
       "2  5.544279e-06   7.535175e-05  \n",
       "3  5.522445e-06   1.973828e-08  \n",
       "4  4.348285e-03   7.048269e-05  "
      ]
     },
     "execution_count": 91,
     "metadata": {},
     "output_type": "execute_result"
    }
   ],
   "source": [
    "results.head()"
   ]
  }
 ],
 "metadata": {
  "kernelspec": {
   "display_name": "Python [conda env:gluon]",
   "language": "python",
   "name": "conda-env-gluon-py"
  },
  "language_info": {
   "codemirror_mode": {
    "name": "ipython",
    "version": 3
   },
   "file_extension": ".py",
   "mimetype": "text/x-python",
   "name": "python",
   "nbconvert_exporter": "python",
   "pygments_lexer": "ipython3",
   "version": "3.6.9"
  }
 },
 "nbformat": 4,
 "nbformat_minor": 2
}
